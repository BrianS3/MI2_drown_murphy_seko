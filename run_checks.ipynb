{
 "cells": [
  {
   "cell_type": "code",
   "execution_count": 1,
   "id": "0beece51-d98b-4959-9cd9-a670ef9741fd",
   "metadata": {},
   "outputs": [],
   "source": [
    "from gps_695 import credentials as c\n",
    "from gps_695 import database as d\n",
    "\n",
    "c.load_env_credentials()\n",
    "cnx = d.connect_to_database()"
   ]
  },
  {
   "cell_type": "code",
   "execution_count": 2,
   "id": "302ec52d-d448-42d9-9685-8078e3eef39d",
   "metadata": {},
   "outputs": [],
   "source": [
    "import pandas as pd\n",
    "import numpy as np"
   ]
  },
  {
   "cell_type": "code",
   "execution_count": 3,
   "id": "c18cd877-30a9-4242-8164-2c94809b4e1a",
   "metadata": {},
   "outputs": [],
   "source": [
    "query = \"select * from TWEET_TEXT;\"\n",
    "\n",
    "df_old = pd.read_sql_query(query, cnx)"
   ]
  },
  {
   "cell_type": "code",
   "execution_count": 4,
   "id": "be42fef6-ae48-4454-978a-48cd2c0c1672",
   "metadata": {},
   "outputs": [],
   "source": [
    "c.create_env_variables(database='milestone_testing_3')\n",
    "c.load_env_credentials()"
   ]
  },
  {
   "cell_type": "code",
   "execution_count": 5,
   "id": "8b428230-1473-41a4-8cfb-70ba7cde188b",
   "metadata": {},
   "outputs": [],
   "source": [
    "query2 = \"select * from TWEET_TEXT\"\n",
    "cnx = d.connect_to_database()\n",
    "\n",
    "df_new = pd.read_sql_query(query2, cnx)"
   ]
  },
  {
   "cell_type": "code",
   "execution_count": 6,
   "id": "abbdebf0-87b8-46d8-8f75-281a83fd6db8",
   "metadata": {},
   "outputs": [],
   "source": [
    "df = pd.merge(df_old, df_new, how='inner', left_on=['TWEET_ID'], right_on=['TWEET_ID'])"
   ]
  },
  {
   "cell_type": "code",
   "execution_count": 7,
   "id": "b56ea90c-c2b4-4a87-a79e-7d05006bcbc1",
   "metadata": {},
   "outputs": [
    {
     "data": {
      "text/plain": [
       "13045"
      ]
     },
     "execution_count": 7,
     "metadata": {},
     "output_type": "execute_result"
    }
   ],
   "source": [
    "len(df)"
   ]
  },
  {
   "cell_type": "code",
   "execution_count": 8,
   "id": "ea7a8d47-6349-429a-b4d5-6523812448ae",
   "metadata": {},
   "outputs": [],
   "source": [
    "df['check'] = np.where(df['OVERALL_EMO_x']==df['OVERALL_EMO_y'],1,0)"
   ]
  },
  {
   "cell_type": "code",
   "execution_count": 9,
   "id": "d91d936b-0707-4111-ba53-eead1ee0570f",
   "metadata": {},
   "outputs": [
    {
     "data": {
      "text/plain": [
       "0.7408968953622077"
      ]
     },
     "execution_count": 9,
     "metadata": {},
     "output_type": "execute_result"
    }
   ],
   "source": [
    "df['check'].mean()"
   ]
  },
  {
   "cell_type": "code",
   "execution_count": 14,
   "id": "60b52605",
   "metadata": {},
   "outputs": [
    {
     "data": {
      "text/html": [
       "<div>\n",
       "<style scoped>\n",
       "    .dataframe tbody tr th:only-of-type {\n",
       "        vertical-align: middle;\n",
       "    }\n",
       "\n",
       "    .dataframe tbody tr th {\n",
       "        vertical-align: top;\n",
       "    }\n",
       "\n",
       "    .dataframe thead th {\n",
       "        text-align: right;\n",
       "    }\n",
       "</style>\n",
       "<table border=\"1\" class=\"dataframe\">\n",
       "  <thead>\n",
       "    <tr style=\"text-align: right;\">\n",
       "      <th></th>\n",
       "      <th>OVERALL_EMO_x</th>\n",
       "      <th>OVERALL_EMO_y</th>\n",
       "    </tr>\n",
       "  </thead>\n",
       "  <tbody>\n",
       "    <tr>\n",
       "      <th>12880</th>\n",
       "      <td>Sad</td>\n",
       "      <td>Mixed</td>\n",
       "    </tr>\n",
       "    <tr>\n",
       "      <th>12058</th>\n",
       "      <td>Fear</td>\n",
       "      <td>Fear</td>\n",
       "    </tr>\n",
       "    <tr>\n",
       "      <th>8222</th>\n",
       "      <td>Fear</td>\n",
       "      <td>Fear</td>\n",
       "    </tr>\n",
       "    <tr>\n",
       "      <th>3414</th>\n",
       "      <td>Neutral</td>\n",
       "      <td>Neutral</td>\n",
       "    </tr>\n",
       "    <tr>\n",
       "      <th>10889</th>\n",
       "      <td>Fear</td>\n",
       "      <td>Fear</td>\n",
       "    </tr>\n",
       "    <tr>\n",
       "      <th>148</th>\n",
       "      <td>Fear</td>\n",
       "      <td>Fear</td>\n",
       "    </tr>\n",
       "    <tr>\n",
       "      <th>4761</th>\n",
       "      <td>Happy</td>\n",
       "      <td>Happy</td>\n",
       "    </tr>\n",
       "    <tr>\n",
       "      <th>10471</th>\n",
       "      <td>Fear</td>\n",
       "      <td>Neutral</td>\n",
       "    </tr>\n",
       "    <tr>\n",
       "      <th>10089</th>\n",
       "      <td>Sad</td>\n",
       "      <td>Neutral</td>\n",
       "    </tr>\n",
       "    <tr>\n",
       "      <th>9123</th>\n",
       "      <td>Fear</td>\n",
       "      <td>Neutral</td>\n",
       "    </tr>\n",
       "    <tr>\n",
       "      <th>966</th>\n",
       "      <td>Sad</td>\n",
       "      <td>Sad</td>\n",
       "    </tr>\n",
       "    <tr>\n",
       "      <th>10816</th>\n",
       "      <td>Mixed</td>\n",
       "      <td>Fear</td>\n",
       "    </tr>\n",
       "    <tr>\n",
       "      <th>12979</th>\n",
       "      <td>Mixed</td>\n",
       "      <td>Mixed</td>\n",
       "    </tr>\n",
       "    <tr>\n",
       "      <th>2038</th>\n",
       "      <td>Fear</td>\n",
       "      <td>Mixed</td>\n",
       "    </tr>\n",
       "    <tr>\n",
       "      <th>11906</th>\n",
       "      <td>Neutral</td>\n",
       "      <td>Neutral</td>\n",
       "    </tr>\n",
       "    <tr>\n",
       "      <th>9692</th>\n",
       "      <td>Mixed</td>\n",
       "      <td>Mixed</td>\n",
       "    </tr>\n",
       "    <tr>\n",
       "      <th>674</th>\n",
       "      <td>Fear</td>\n",
       "      <td>Fear</td>\n",
       "    </tr>\n",
       "    <tr>\n",
       "      <th>10313</th>\n",
       "      <td>Neutral</td>\n",
       "      <td>Fear</td>\n",
       "    </tr>\n",
       "    <tr>\n",
       "      <th>4466</th>\n",
       "      <td>Neutral</td>\n",
       "      <td>Fear</td>\n",
       "    </tr>\n",
       "    <tr>\n",
       "      <th>9277</th>\n",
       "      <td>Fear</td>\n",
       "      <td>Fear</td>\n",
       "    </tr>\n",
       "  </tbody>\n",
       "</table>\n",
       "</div>"
      ],
      "text/plain": [
       "      OVERALL_EMO_x OVERALL_EMO_y\n",
       "12880           Sad         Mixed\n",
       "12058          Fear          Fear\n",
       "8222           Fear          Fear\n",
       "3414        Neutral       Neutral\n",
       "10889          Fear          Fear\n",
       "148            Fear          Fear\n",
       "4761          Happy         Happy\n",
       "10471          Fear       Neutral\n",
       "10089           Sad       Neutral\n",
       "9123           Fear       Neutral\n",
       "966             Sad           Sad\n",
       "10816         Mixed          Fear\n",
       "12979         Mixed         Mixed\n",
       "2038           Fear         Mixed\n",
       "11906       Neutral       Neutral\n",
       "9692          Mixed         Mixed\n",
       "674            Fear          Fear\n",
       "10313       Neutral          Fear\n",
       "4466        Neutral          Fear\n",
       "9277           Fear          Fear"
      ]
     },
     "execution_count": 14,
     "metadata": {},
     "output_type": "execute_result"
    }
   ],
   "source": [
    "df[['OVERALL_EMO_x', 'OVERALL_EMO_y']].sample(20)"
   ]
  }
 ],
 "metadata": {
  "kernelspec": {
   "display_name": "Python 3.10.0 ('milestone2')",
   "language": "python",
   "name": "python3"
  },
  "language_info": {
   "codemirror_mode": {
    "name": "ipython",
    "version": 3
   },
   "file_extension": ".py",
   "mimetype": "text/x-python",
   "name": "python",
   "nbconvert_exporter": "python",
   "pygments_lexer": "ipython3",
   "version": "3.10.0"
  },
  "vscode": {
   "interpreter": {
    "hash": "f4fcda5e50325f8947cdd5cd42ef375c097e097a79a30c133cfebd6b0646a794"
   }
  }
 },
 "nbformat": 4,
 "nbformat_minor": 5
}
